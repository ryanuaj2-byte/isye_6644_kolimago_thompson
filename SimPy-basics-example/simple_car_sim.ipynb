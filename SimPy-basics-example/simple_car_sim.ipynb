{
 "cells": [
  {
   "cell_type": "code",
   "execution_count": 1,
   "id": "c431982b-8df9-44e3-aa2f-da407ce6c00e",
   "metadata": {},
   "outputs": [
    {
     "name": "stdout",
     "output_type": "stream",
     "text": [
      "Car parks at 0\n",
      "Car drives at 5\n",
      "Car parks at 7\n",
      "Car drives at 12\n",
      "Car parks at 14\n",
      "Car drives at 19\n"
     ]
    }
   ],
   "source": [
    "\"\"\"\n",
    "This is a simple example of a car parking and driving using SimPy.\n",
    "\n",
    "Car parks for 5 units of time and drives for 2 units of time.\n",
    "\"\"\"\n",
    "\n",
    "import simpy\n",
    "\n",
    "def car(env):\n",
    "    \"\"\"\n",
    "    Car parking and driving process using SimPy.\n",
    "    \"\"\"\n",
    "    while True:\n",
    "        print(f'Car parks at {env.now}')\n",
    "        yield env.timeout(5) # Car is parked for 5 units of time\n",
    "        print(f'Car drives at {env.now}')\n",
    "        yield env.timeout(2) # Car drives for 2 units of time\n",
    "\n",
    "env = simpy.Environment()\n",
    "\n",
    "env.process(car(env))\n",
    "\n",
    "env.run(until=20)\n"
   ]
  },
  {
   "cell_type": "code",
   "execution_count": 2,
   "id": "1a2df0f5-2b63-43c9-8e10-7299d3e64a79",
   "metadata": {},
   "outputs": [
    {
     "name": "stdout",
     "output_type": "stream",
     "text": [
      "did this push?\n"
     ]
    }
   ],
   "source": [
    "print(\"did this push?\")"
   ]
  }
 ],
 "metadata": {
  "kernelspec": {
   "display_name": "Python 3 (ipykernel)",
   "language": "python",
   "name": "python3"
  },
  "language_info": {
   "codemirror_mode": {
    "name": "ipython",
    "version": 3
   },
   "file_extension": ".py",
   "mimetype": "text/x-python",
   "name": "python",
   "nbconvert_exporter": "python",
   "pygments_lexer": "ipython3",
   "version": "3.11.13"
  }
 },
 "nbformat": 4,
 "nbformat_minor": 5
}
