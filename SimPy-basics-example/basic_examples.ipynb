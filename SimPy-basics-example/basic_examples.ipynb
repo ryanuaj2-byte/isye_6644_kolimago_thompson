{
 "cells": [
  {
   "cell_type": "code",
   "execution_count": 2,
   "id": "3826cebb-f23d-42eb-877b-5459832c69fa",
   "metadata": {},
   "outputs": [
    {
     "name": "stdout",
     "output_type": "stream",
     "text": [
      "Collecting simpy\n",
      "  Downloading simpy-4.1.1-py3-none-any.whl.metadata (6.1 kB)\n",
      "Downloading simpy-4.1.1-py3-none-any.whl (27 kB)\n",
      "Installing collected packages: simpy\n",
      "Successfully installed simpy-4.1.1\n"
     ]
    }
   ],
   "source": [
    "!pip install simpy"
   ]
  },
  {
   "cell_type": "code",
   "execution_count": 3,
   "id": "4950ec07-859a-4fca-b4a8-61a576f9784f",
   "metadata": {},
   "outputs": [
    {
     "name": "stdout",
     "output_type": "stream",
     "text": [
      "Resource acquired at 0\n",
      "Process using resource at 5\n",
      "Resource released at 5\n"
     ]
    }
   ],
   "source": [
    "import simpy\n",
    "\n",
    "env = simpy.Environment()\n",
    "\n",
    "def process_example(env):\n",
    "    print(f\"Process starts at time {env.now}\")\n",
    "    yield env.timeout(5)\n",
    "    print(f\"Process resumes at time {env.now}\")\n",
    "\n",
    "def machine(env):\n",
    "    print(f\"Machine starts at {env.now}\")\n",
    "    yield env.timeout(3) # Machine works for 3 units of time\n",
    "    print(f\"Machine stops at {env.now}\")\n",
    "\n",
    "    resource = simpy.Resource(env, capacity=1)\n",
    "    with resource.request() as req:\n",
    "        yield req # Wait until the resource is available\n",
    "        yield env.timeout(5) # Use the resource for 5 units of time\n",
    "\n",
    "def process_with_explicit_request(env, resource):\n",
    "    \"\"\"\n",
    "    Process that explicitly requests a resource and releases it manually after use.\n",
    "    \"\"\"\n",
    "    # Request the resource\n",
    "    req = resource.request()\n",
    "    yield req # Wait until the resource is\n",
    "    print(f\"Resource acquired at {env.now}\")\n",
    "\n",
    "    # Simulate using the resource\n",
    "    yield env.timeout(5)\n",
    "    print(f\"Process using resource at {env.now}\")\n",
    "\n",
    "    # Release the resource manually\n",
    "    resource.release(req)\n",
    "    print(f\"Resource released at {env.now}\")\n",
    "\n",
    "# Simulation setup\n",
    "env = simpy.Environment()\n",
    "resource = simpy.Resource(env, capacity=1)\n",
    "env.process(process_with_explicit_request(env, resource))\n",
    "env.run(until=10)\n"
   ]
  },
  {
   "cell_type": "code",
   "execution_count": null,
   "id": "78bb7eb2-d6f0-404f-8158-d42c00f60ee5",
   "metadata": {},
   "outputs": [],
   "source": []
  }
 ],
 "metadata": {
  "kernelspec": {
   "display_name": "Python 3 (ipykernel)",
   "language": "python",
   "name": "python3"
  },
  "language_info": {
   "codemirror_mode": {
    "name": "ipython",
    "version": 3
   },
   "file_extension": ".py",
   "mimetype": "text/x-python",
   "name": "python",
   "nbconvert_exporter": "python",
   "pygments_lexer": "ipython3",
   "version": "3.11.13"
  }
 },
 "nbformat": 4,
 "nbformat_minor": 5
}
