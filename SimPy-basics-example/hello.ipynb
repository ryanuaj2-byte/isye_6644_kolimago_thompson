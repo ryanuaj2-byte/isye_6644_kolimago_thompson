{
 "cells": [
  {
   "cell_type": "code",
   "execution_count": 1,
   "id": "dce9e289-4340-4020-a2c1-6d356fa81b0c",
   "metadata": {},
   "outputs": [
    {
     "name": "stdout",
     "output_type": "stream",
     "text": [
      "Hello, ISYE 6644 SimPy project\n"
     ]
    }
   ],
   "source": [
    "print(\"Hello, ISYE 6644 SimPy project\")\n"
   ]
  }
 ],
 "metadata": {
  "kernelspec": {
   "display_name": "Python 3 (ipykernel)",
   "language": "python",
   "name": "python3"
  },
  "language_info": {
   "codemirror_mode": {
    "name": "ipython",
    "version": 3
   },
   "file_extension": ".py",
   "mimetype": "text/x-python",
   "name": "python",
   "nbconvert_exporter": "python",
   "pygments_lexer": "ipython3",
   "version": "3.11.13"
  }
 },
 "nbformat": 4,
 "nbformat_minor": 5
}
