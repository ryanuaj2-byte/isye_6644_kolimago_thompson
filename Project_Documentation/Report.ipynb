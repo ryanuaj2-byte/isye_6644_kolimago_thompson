{
 "cells": [
  {
   "cell_type": "markdown",
   "id": "0ec2f73a-e047-47f4-97e3-c3d7aeba9550",
   "metadata": {},
   "source": [
    "# Abstract"
   ]
  },
  {
   "cell_type": "code",
   "execution_count": null,
   "id": "c61f6941-7292-4469-bdbc-f0b65699f0ad",
   "metadata": {},
   "outputs": [],
   "source": []
  },
  {
   "cell_type": "markdown",
   "id": "fd69e7f1-e844-4044-bf3d-f4a1c2598bf9",
   "metadata": {},
   "source": [
    "# Background"
   ]
  },
  {
   "cell_type": "code",
   "execution_count": null,
   "id": "aca491fe-eb9d-4067-b24b-a0166ee1d202",
   "metadata": {},
   "outputs": [],
   "source": []
  },
  {
   "cell_type": "markdown",
   "id": "d4738d5f-7b91-46c7-ace3-d974db69c139",
   "metadata": {},
   "source": [
    "# Overview"
   ]
  },
  {
   "cell_type": "code",
   "execution_count": null,
   "id": "b5db8a6a-bb11-4b51-9141-38082bbd6eef",
   "metadata": {},
   "outputs": [],
   "source": []
  },
  {
   "cell_type": "markdown",
   "id": "40f1f3e2-9e32-4850-b645-82a65d693efb",
   "metadata": {},
   "source": [
    "# Literature Review"
   ]
  },
  {
   "cell_type": "code",
   "execution_count": null,
   "id": "34b4c4f8-d460-4323-acff-dc39eadb97e7",
   "metadata": {},
   "outputs": [],
   "source": []
  },
  {
   "cell_type": "markdown",
   "id": "57e5c762-d06e-40c7-a137-c657b96b8ca0",
   "metadata": {},
   "source": [
    "# Method"
   ]
  },
  {
   "cell_type": "code",
   "execution_count": null,
   "id": "6064de06-7b56-4e0b-94e4-b8a6bf2fc668",
   "metadata": {},
   "outputs": [],
   "source": []
  },
  {
   "cell_type": "markdown",
   "id": "66eec2da-eb34-4b43-b3b1-1cc901b6feab",
   "metadata": {},
   "source": [
    "# Summary"
   ]
  },
  {
   "cell_type": "code",
   "execution_count": null,
   "id": "1e6db739-cbe1-48b2-b3a5-e56951531e5b",
   "metadata": {},
   "outputs": [],
   "source": []
  },
  {
   "cell_type": "markdown",
   "id": "2a2822c3-93d1-428d-bc77-6297d3e8e422",
   "metadata": {},
   "source": [
    "# Results"
   ]
  },
  {
   "cell_type": "code",
   "execution_count": null,
   "id": "32176d2a-f2a8-40b6-b5c8-efb3edbdfa3d",
   "metadata": {},
   "outputs": [],
   "source": []
  },
  {
   "cell_type": "markdown",
   "id": "70157b17-4cae-4917-98f1-b291236eae4b",
   "metadata": {},
   "source": [
    "# Conclusions"
   ]
  },
  {
   "cell_type": "code",
   "execution_count": null,
   "id": "b0e8751e-1519-41b6-9d7f-57d3ce0cb136",
   "metadata": {},
   "outputs": [],
   "source": []
  },
  {
   "cell_type": "markdown",
   "id": "d729037a-5063-49a1-9377-42fe4530fcec",
   "metadata": {},
   "source": [
    "# Works Cited"
   ]
  },
  {
   "cell_type": "code",
   "execution_count": null,
   "id": "348abe14-1577-48a4-8d48-db8320ac1b0a",
   "metadata": {},
   "outputs": [],
   "source": []
  },
  {
   "cell_type": "code",
   "execution_count": null,
   "id": "fc6f3ab5-0e12-4a59-b691-b7aec9af1a9b",
   "metadata": {},
   "outputs": [],
   "source": []
  },
  {
   "cell_type": "code",
   "execution_count": null,
   "id": "01c9de32-eba4-4db2-8df3-44a05a09e34e",
   "metadata": {},
   "outputs": [],
   "source": []
  }
 ],
 "metadata": {
  "kernelspec": {
   "display_name": "Python 3 (ipykernel)",
   "language": "python",
   "name": "python3"
  },
  "language_info": {
   "codemirror_mode": {
    "name": "ipython",
    "version": 3
   },
   "file_extension": ".py",
   "mimetype": "text/x-python",
   "name": "python",
   "nbconvert_exporter": "python",
   "pygments_lexer": "ipython3",
   "version": "3.11.13"
  }
 },
 "nbformat": 4,
 "nbformat_minor": 5
}
